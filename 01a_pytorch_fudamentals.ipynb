{
 "cells": [
  {
   "cell_type": "markdown",
   "metadata": {
    "id": "AzDBM_v4iMe7"
   },
   "source": [
    "# PyTorch Fundamental Exercises\n",
    "\n",
    "[Tutorial on pytorch fundamentals](https://www.learnpytorch.io/00_pytorch_fundamentals/)\n",
    "\n",
    "References:\n",
    "  * Pytorch documentation on [`torch.Tensor`](https://pytorch.org/docs/stable/tensors.html#torch-tensor).\n",
    "  * Pytorch documentation on [`torch.cuda`](https://pytorch.org/docs/master/notes/cuda.html#cuda-semantics).\n",
    "\n"
   ]
  },
  {
   "cell_type": "markdown",
   "metadata": {
    "id": "__iXqqz-ioUJ"
   },
   "source": [
    "### 1. Create a random tensor with shape `(7, 7)`.\n",
    "\n",
    "The output should look like:\n",
    "\n",
    "```\n",
    "tensor([[0.4910, 0.1235, 0.1143, 0.4725, 0.5751, 0.2952, 0.7967],\n",
    "        [0.1957, 0.9537, 0.8426, 0.0784, 0.3756, 0.5226, 0.5730],\n",
    "        [0.6186, 0.6962, 0.5300, 0.2560, 0.7366, 0.0204, 0.2036],\n",
    "        [0.3748, 0.2564, 0.3251, 0.0902, 0.3936, 0.6069, 0.1743],\n",
    "        [0.4743, 0.8579, 0.4486, 0.5139, 0.4569, 0.6012, 0.8179],\n",
    "        [0.9736, 0.8175, 0.9747, 0.4638, 0.0508, 0.2630, 0.8405],\n",
    "        [0.4968, 0.2515, 0.1168, 0.0321, 0.0780, 0.3986, 0.7742]])\n",
    "```"
   ]
  },
  {
   "cell_type": "code",
   "execution_count": 4,
   "metadata": {
    "id": "6pUq9Dc8i2L7"
   },
   "outputs": [
    {
     "data": {
      "text/plain": [
       "tensor([[0.0411, 0.2018, 0.1174, 0.8998, 0.0574, 0.0607, 0.1121],\n",
       "        [0.8275, 0.4306, 0.8811, 0.5606, 0.0960, 0.0394, 0.4019],\n",
       "        [0.0476, 0.5632, 0.3141, 0.8115, 0.3747, 0.6695, 0.4590],\n",
       "        [0.3151, 0.6184, 0.4442, 0.5056, 0.5002, 0.8509, 0.1954],\n",
       "        [0.8189, 0.8245, 0.9081, 0.8927, 0.9866, 0.8036, 0.8202],\n",
       "        [0.5640, 0.7067, 0.6187, 0.4358, 0.5730, 0.6417, 0.3931],\n",
       "        [0.4447, 0.9535, 0.6204, 0.8149, 0.7349, 0.0137, 0.5542]])"
      ]
     },
     "execution_count": 4,
     "metadata": {},
     "output_type": "execute_result"
    }
   ],
   "source": [
    "import torch\n",
    "rand_7x7 = torch.rand([7, 7])\n",
    "rand_7x7\n"
   ]
  },
  {
   "cell_type": "markdown",
   "metadata": {
    "id": "9-XxvRLfiqkR"
   },
   "source": [
    "### 2. Perform a matrix multiplication on the tensor from 1 with another random tensor with shape `(1, 7)` (hint: you may have to transpose the second tensor).\n",
    "\n",
    "The output should look like:\n",
    "\n",
    "```\n",
    "(tensor([[1.1939],\n",
    "         [1.1061],\n",
    "         [0.9868],\n",
    "         [1.8999],\n",
    "         [0.7716],\n",
    "         [1.3174],\n",
    "         [1.6353]]),\n",
    " torch.Size([7, 1]))\n",
    "```"
   ]
  },
  {
   "cell_type": "code",
   "execution_count": 7,
   "metadata": {
    "id": "NcLqR0Sbi_vT"
   },
   "outputs": [
    {
     "data": {
      "text/plain": [
       "tensor([[0.7672],\n",
       "        [1.4572],\n",
       "        [1.3303],\n",
       "        [1.3185],\n",
       "        [2.7398],\n",
       "        [1.6386],\n",
       "        [2.0003]])"
      ]
     },
     "execution_count": 7,
     "metadata": {},
     "output_type": "execute_result"
    }
   ],
   "source": [
    "rand_1x7 = torch.rand([1, 7])\n",
    "rand_7x7 @ rand_1x7.T"
   ]
  },
  {
   "cell_type": "markdown",
   "metadata": {
    "id": "eiutdKUFiryU"
   },
   "source": [
    "### 3. Set the random seed to `0` and do 1 & 2 over again.\n",
    "\n",
    "The output should look like:\n",
    "```\n",
    "(tensor([[1.8542],\n",
    "         [1.9611],\n",
    "         [2.2884],\n",
    "         [3.0481],\n",
    "         [1.7067],\n",
    "         [2.5290],\n",
    "         [1.7989]]),\n",
    " torch.Size([7, 1]))\n",
    "```"
   ]
  },
  {
   "cell_type": "code",
   "execution_count": 9,
   "metadata": {
    "id": "D-lOWI_1jRMm"
   },
   "outputs": [
    {
     "data": {
      "text/plain": [
       "tensor([[1.8542],\n",
       "        [1.9611],\n",
       "        [2.2884],\n",
       "        [3.0481],\n",
       "        [1.7067],\n",
       "        [2.5290],\n",
       "        [1.7989]])"
      ]
     },
     "execution_count": 9,
     "metadata": {},
     "output_type": "execute_result"
    }
   ],
   "source": [
    "torch.manual_seed(0)\n",
    "rand_7x7 = torch.rand([7, 7])\n",
    "rand_1x7 = torch.rand([1, 7])\n",
    "rand_7x7 @ rand_1x7.T"
   ]
  },
  {
   "cell_type": "markdown",
   "metadata": {
    "id": "Ir9qSaj6it4n"
   },
   "source": [
    "\n",
    "### 4. Create two random tensors of shape `(2, 3)` and send them both to the GPU. Set a manual seed of 1234 when creating the tensors.\n",
    "\n",
    "The output should look like:\n",
    "\n",
    "```\n",
    "Device: cuda\n",
    "(tensor([[0.0290, 0.4019, 0.2598],\n",
    "         [0.3666, 0.0583, 0.7006]], device='cuda:0'),\n",
    " tensor([[0.0518, 0.4681, 0.6738],\n",
    "         [0.3315, 0.7837, 0.5631]], device='cuda:0'))\n",
    "```"
   ]
  },
  {
   "cell_type": "code",
   "execution_count": 20,
   "metadata": {
    "id": "azXExiFZj5nm"
   },
   "outputs": [
    {
     "name": "stdout",
     "output_type": "stream",
     "text": [
      "t1=tensor([[0.0290, 0.4019, 0.2598],\n",
      "        [0.3666, 0.0583, 0.7006]], device='cuda:0')\n",
      "t2=tensor([[0.0518, 0.4681, 0.6738],\n",
      "        [0.3315, 0.7837, 0.5631]], device='cuda:0')\n"
     ]
    }
   ],
   "source": [
    "torch.manual_seed(1234)\n",
    "device = \"cuda\"\n",
    "\n",
    "t1 = torch.rand([2, 3])\n",
    "t2 = torch.rand([2, 3])\n",
    "\n",
    "t1 = t1.to(device)\n",
    "t2 = t2.to(device)\n",
    "\n",
    "print(f\"t1={t1}\\nt2={t2}\")\n",
    "\n",
    "\n"
   ]
  },
  {
   "cell_type": "markdown",
   "metadata": {
    "id": "5TlAxeiSiu1y"
   },
   "source": [
    "\n",
    "### 5. Perform an element-wise addition on the tensors you created in 4. What happens if you move one of the tensors back to CPU and try to do the addition then?\n",
    "\n",
    "The output should look like:\n",
    "```\n",
    "(tensor([[0.0808, 0.8700, 0.9337],\n",
    "         [0.6981, 0.8420, 1.2637]], device='cuda:0'),\n",
    " torch.Size([2, 3]))\n",
    "```"
   ]
  },
  {
   "cell_type": "code",
   "execution_count": 23,
   "metadata": {
    "id": "fAeG7ox0lHEO"
   },
   "outputs": [
    {
     "name": "stdout",
     "output_type": "stream",
     "text": [
      "t1+t2 = tensor([[0.0808, 0.8700, 0.9337],\n",
      "        [0.6981, 0.8420, 1.2637]])\n",
      "t1+t2 = tensor([[0.0808, 0.8700, 0.9337],\n",
      "        [0.6981, 0.8420, 1.2637]])\n"
     ]
    }
   ],
   "source": [
    "print(f\"t1+t2 = {t1+t2}\")\n",
    "\n",
    "device = \"cpu\"\n",
    "\n",
    "t1 = t1.to(device)\n",
    "t2 = t2.to(device)\n",
    "\n",
    "print(f\"t1+t2 = {t1+t2}\")\n",
    "t3 = t1+t2\n",
    "\n"
   ]
  },
  {
   "cell_type": "markdown",
   "metadata": {
    "id": "G7qfa5CSivwg"
   },
   "source": [
    "### 6. Find the maximum and minimum values of the output of 5.\n",
    "\n",
    "The output should look like:\n",
    "\n",
    "```\n",
    "Max: 0.5617256760597229\n",
    "Min: 0.3647301495075226\n",
    "```"
   ]
  },
  {
   "cell_type": "code",
   "execution_count": 26,
   "metadata": {
    "id": "Fu8_3mZpllOd"
   },
   "outputs": [
    {
     "name": "stdout",
     "output_type": "stream",
     "text": [
      "max = 1.2637078762054443\n",
      "min = 0.0807766318321228\n"
     ]
    }
   ],
   "source": [
    "print(f\"max = {t3.max()}\")\n",
    "print(f\"min = {t3.min()}\")"
   ]
  },
  {
   "cell_type": "markdown",
   "metadata": {
    "id": "wrTj5FgNiw47"
   },
   "source": [
    "### 7. Find the maximum and minimum index values of the output of 6.\n",
    "\n",
    "The output should look like:\n",
    "\n",
    "```\n",
    "Max index: 3\n",
    "Min index: 0\n",
    "```"
   ]
  },
  {
   "cell_type": "code",
   "execution_count": 27,
   "metadata": {
    "id": "CCEKt4K2lsfQ"
   },
   "outputs": [
    {
     "name": "stdout",
     "output_type": "stream",
     "text": [
      "argmax = 5\n",
      "argmin = 0\n"
     ]
    }
   ],
   "source": [
    "print(f\"argmax = {t3.argmax()}\")\n",
    "print(f\"argmin = {t3.argmin()}\")"
   ]
  },
  {
   "cell_type": "markdown",
   "metadata": {
    "id": "hmeybz4uixy7"
   },
   "source": [
    "\n",
    "### 8. Make a random tensor with shape `(1, 1, 1, 10)` and then create a new tensor with all the `1` dimensions removed to be left with a tensor of shape `(10)`. Set the seed to `7` when you create it and print out the first tensor and it's shape as well as the second tensor and it's shape.\n",
    "\n",
    "The output should look like:\n",
    "\n",
    "```\n",
    "tensor([[[[0.5349, 0.1988, 0.6592, 0.6569, 0.2328, 0.4251, 0.2071, 0.6297,\n",
    "           0.3653, 0.8513]]]]) torch.Size([1, 1, 1, 10])\n",
    "tensor([0.5349, 0.1988, 0.6592, 0.6569, 0.2328, 0.4251, 0.2071, 0.6297, 0.3653,\n",
    "        0.8513]) torch.Size([10])\n",
    "```"
   ]
  },
  {
   "cell_type": "code",
   "execution_count": 28,
   "metadata": {
    "id": "TQ9zbRzVl1jV"
   },
   "outputs": [
    {
     "name": "stdout",
     "output_type": "stream",
     "text": [
      "original = tensor([[[[0.5349, 0.1988, 0.6592, 0.6569, 0.2328, 0.4251, 0.2071, 0.6297,\n",
      "           0.3653, 0.8513]]]])\n",
      "shape = torch.Size([1, 1, 1, 10])\n",
      "squeezed = tensor([0.5349, 0.1988, 0.6592, 0.6569, 0.2328, 0.4251, 0.2071, 0.6297, 0.3653,\n",
      "        0.8513])\n",
      "shape = torch.Size([10])\n"
     ]
    }
   ],
   "source": [
    "torch.manual_seed(7)\n",
    "t1 = torch.rand([1, 1, 1, 10])\n",
    "print(f\"original = {t1}\\nshape = {t1.shape}\")\n",
    "t1 = t1.squeeze()\n",
    "print(f\"squeezed = {t1}\\nshape = {t1.shape}\")\n"
   ]
  },
  {
   "cell_type": "markdown",
   "metadata": {},
   "source": [
    "### 9. Make a random tensor with shape `(10, 3, 4)`. Add a fourth dimension to the second axis of this tensor so that the shape will be `(10, 1, 3, 4)`.\n",
    "\n",
    "The output should look like:\n",
    "\n",
    "```\n",
    "(torch.Size([10, 3, 4]), torch.Size([10, 1, 3, 4]))\n",
    "```"
   ]
  },
  {
   "cell_type": "code",
   "execution_count": 31,
   "metadata": {},
   "outputs": [
    {
     "name": "stdout",
     "output_type": "stream",
     "text": [
      "original = tensor([[[0.6206, 0.4684, 0.3571, 0.9390],\n",
      "         [0.0195, 0.7833, 0.6358, 0.8134],\n",
      "         [0.2102, 0.3361, 0.2899, 0.9852]],\n",
      "\n",
      "        [[0.4354, 0.0232, 0.7507, 0.5964],\n",
      "         [0.5684, 0.1666, 0.0316, 0.9531],\n",
      "         [0.1234, 0.4050, 0.4084, 0.7855]],\n",
      "\n",
      "        [[0.0785, 0.2138, 0.2321, 0.2479],\n",
      "         [0.8059, 0.8061, 0.7268, 0.9081],\n",
      "         [0.1675, 0.4980, 0.0954, 0.4990]],\n",
      "\n",
      "        [[0.0727, 0.0184, 0.8149, 0.2787],\n",
      "         [0.4602, 0.3526, 0.1034, 0.4501],\n",
      "         [0.5739, 0.8995, 0.2873, 0.9764]],\n",
      "\n",
      "        [[0.2685, 0.8200, 0.9367, 0.5517],\n",
      "         [0.3283, 0.8699, 0.3542, 0.2859],\n",
      "         [0.3257, 0.0922, 0.4500, 0.0932]],\n",
      "\n",
      "        [[0.8274, 0.0184, 0.1285, 0.5991],\n",
      "         [0.8093, 0.9782, 0.0948, 0.9107],\n",
      "         [0.8503, 0.1720, 0.7085, 0.3594]],\n",
      "\n",
      "        [[0.6439, 0.0574, 0.2129, 0.1830],\n",
      "         [0.4025, 0.4818, 0.4892, 0.2046],\n",
      "         [0.7470, 0.7540, 0.0614, 0.0365]],\n",
      "\n",
      "        [[0.3926, 0.6391, 0.1192, 0.4540],\n",
      "         [0.5284, 0.1179, 0.9682, 0.8621],\n",
      "         [0.8819, 0.2961, 0.1426, 0.5614]],\n",
      "\n",
      "        [[0.7925, 0.7446, 0.1756, 0.8925],\n",
      "         [0.2630, 0.4126, 0.3598, 0.7381],\n",
      "         [0.0335, 0.1816, 0.4395, 0.8442]],\n",
      "\n",
      "        [[0.3796, 0.8137, 0.9579, 0.5188],\n",
      "         [0.1632, 0.5028, 0.6945, 0.3935],\n",
      "         [0.0118, 0.7976, 0.2821, 0.1503]]])\n",
      "shape = torch.Size([10, 3, 4])\n",
      "unsqueezed = tensor([[[[0.6206, 0.4684, 0.3571, 0.9390],\n",
      "          [0.0195, 0.7833, 0.6358, 0.8134],\n",
      "          [0.2102, 0.3361, 0.2899, 0.9852]]],\n",
      "\n",
      "\n",
      "        [[[0.4354, 0.0232, 0.7507, 0.5964],\n",
      "          [0.5684, 0.1666, 0.0316, 0.9531],\n",
      "          [0.1234, 0.4050, 0.4084, 0.7855]]],\n",
      "\n",
      "\n",
      "        [[[0.0785, 0.2138, 0.2321, 0.2479],\n",
      "          [0.8059, 0.8061, 0.7268, 0.9081],\n",
      "          [0.1675, 0.4980, 0.0954, 0.4990]]],\n",
      "\n",
      "\n",
      "        [[[0.0727, 0.0184, 0.8149, 0.2787],\n",
      "          [0.4602, 0.3526, 0.1034, 0.4501],\n",
      "          [0.5739, 0.8995, 0.2873, 0.9764]]],\n",
      "\n",
      "\n",
      "        [[[0.2685, 0.8200, 0.9367, 0.5517],\n",
      "          [0.3283, 0.8699, 0.3542, 0.2859],\n",
      "          [0.3257, 0.0922, 0.4500, 0.0932]]],\n",
      "\n",
      "\n",
      "        [[[0.8274, 0.0184, 0.1285, 0.5991],\n",
      "          [0.8093, 0.9782, 0.0948, 0.9107],\n",
      "          [0.8503, 0.1720, 0.7085, 0.3594]]],\n",
      "\n",
      "\n",
      "        [[[0.6439, 0.0574, 0.2129, 0.1830],\n",
      "          [0.4025, 0.4818, 0.4892, 0.2046],\n",
      "          [0.7470, 0.7540, 0.0614, 0.0365]]],\n",
      "\n",
      "\n",
      "        [[[0.3926, 0.6391, 0.1192, 0.4540],\n",
      "          [0.5284, 0.1179, 0.9682, 0.8621],\n",
      "          [0.8819, 0.2961, 0.1426, 0.5614]]],\n",
      "\n",
      "\n",
      "        [[[0.7925, 0.7446, 0.1756, 0.8925],\n",
      "          [0.2630, 0.4126, 0.3598, 0.7381],\n",
      "          [0.0335, 0.1816, 0.4395, 0.8442]]],\n",
      "\n",
      "\n",
      "        [[[0.3796, 0.8137, 0.9579, 0.5188],\n",
      "          [0.1632, 0.5028, 0.6945, 0.3935],\n",
      "          [0.0118, 0.7976, 0.2821, 0.1503]]]])\n",
      " shape = torch.Size([10, 1, 3, 4])\n"
     ]
    }
   ],
   "source": [
    "t1 = torch.rand([10, 3, 4])\n",
    "print(f\"original = {t1}\\nshape = {t1.shape}\")\n",
    "t1 = t1.unsqueeze(1)\n",
    "print(f\"unsqueezed = {t1}\\n shape = {t1.shape}\")"
   ]
  },
  {
   "cell_type": "markdown",
   "metadata": {},
   "source": [
    "### 10. Make a python list containing 5 tensors with shape `(3, 4)` where all values are zero (use a loop). Stack all tensors in the list together to one big tensor with shape `(5, 3, 4)`.\n",
    "\n",
    "The output should look like:\n",
    "\n",
    "```\n",
    "(tensor([[[0., 0., 0., 0.],\n",
    "          [0., 0., 0., 0.],\n",
    "          [0., 0., 0., 0.]],\n",
    " \n",
    "         [[0., 0., 0., 0.],\n",
    "          [0., 0., 0., 0.],\n",
    "          [0., 0., 0., 0.]],\n",
    " \n",
    "         [[0., 0., 0., 0.],\n",
    "          [0., 0., 0., 0.],\n",
    "          [0., 0., 0., 0.]],\n",
    " \n",
    "         [[0., 0., 0., 0.],\n",
    "          [0., 0., 0., 0.],\n",
    "          [0., 0., 0., 0.]],\n",
    " \n",
    "         [[0., 0., 0., 0.],\n",
    "          [0., 0., 0., 0.],\n",
    "          [0., 0., 0., 0.]]]),\n",
    " torch.Size([5, 3, 4]))\n",
    "```"
   ]
  },
  {
   "cell_type": "code",
   "execution_count": 36,
   "metadata": {},
   "outputs": [
    {
     "name": "stdout",
     "output_type": "stream",
     "text": [
      "tensor = tensor([[[0., 0., 0., 0.],\n",
      "         [0., 0., 0., 0.],\n",
      "         [0., 0., 0., 0.]],\n",
      "\n",
      "        [[0., 0., 0., 0.],\n",
      "         [0., 0., 0., 0.],\n",
      "         [0., 0., 0., 0.]],\n",
      "\n",
      "        [[0., 0., 0., 0.],\n",
      "         [0., 0., 0., 0.],\n",
      "         [0., 0., 0., 0.]],\n",
      "\n",
      "        [[0., 0., 0., 0.],\n",
      "         [0., 0., 0., 0.],\n",
      "         [0., 0., 0., 0.]],\n",
      "\n",
      "        [[0., 0., 0., 0.],\n",
      "         [0., 0., 0., 0.],\n",
      "         [0., 0., 0., 0.]]])\n",
      "shape = torch.Size([5, 3, 4])\n"
     ]
    }
   ],
   "source": [
    "l = []\n",
    "for i in range(5):\n",
    "    l.append(torch.zeros([3, 4]))\n",
    "\n",
    "tensor = torch.stack(l)\n",
    "print(f\"tensor = {tensor}\\nshape = {tensor.shape}\")"
   ]
  },
  {
   "cell_type": "markdown",
   "metadata": {},
   "source": [
    "### 11. Make a tensor with `torch.arange(0, 10)`. Print out the first 3 numbers, the last 4 numbers, and all numbers except the first and last one.\n",
    "\n",
    "The output should look like:\n",
    "\n",
    "```\n",
    "tensor([0, 1, 2])\n",
    "tensor([6, 7, 8, 9])\n",
    "tensor([1, 2, 3, 4, 5, 6, 7, 8])\n",
    "```"
   ]
  },
  {
   "cell_type": "code",
   "execution_count": 44,
   "metadata": {},
   "outputs": [
    {
     "name": "stdout",
     "output_type": "stream",
     "text": [
      "t1[:3] = tensor([0, 1, 2])\t t1[6:] = tensor([6, 7, 8, 9])\t t1[1:10] = tensor([1, 2, 3, 4, 5, 6, 7, 8])\n"
     ]
    }
   ],
   "source": [
    "t1 = torch.arange(0, 10)\n",
    "print(f\"t1[:3] = {t1[:3]}\\t t1[6:] = {t1[6:]}\\t t1[1:10] = {t1[1:9]}\")"
   ]
  },
  {
   "cell_type": "code",
   "execution_count": null,
   "metadata": {},
   "outputs": [],
   "source": []
  }
 ],
 "metadata": {
  "accelerator": "GPU",
  "colab": {
   "collapsed_sections": [],
   "name": "00_pytorch_fundamentals_exercises.ipynb",
   "provenance": []
  },
  "kernelspec": {
   "display_name": ".venv",
   "language": "python",
   "name": "python3"
  },
  "language_info": {
   "codemirror_mode": {
    "name": "ipython",
    "version": 3
   },
   "file_extension": ".py",
   "mimetype": "text/x-python",
   "name": "python",
   "nbconvert_exporter": "python",
   "pygments_lexer": "ipython3",
   "version": "3.12.3"
  }
 },
 "nbformat": 4,
 "nbformat_minor": 4
}
